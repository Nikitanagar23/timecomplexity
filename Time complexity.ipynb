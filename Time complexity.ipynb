{
 "cells": [
  {
   "cell_type": "markdown",
   "id": "fd43bf78-d707-4693-91c8-a1c008db6cd8",
   "metadata": {},
   "source": [
    "TIME COMPLEXITY + RECURSION "
   ]
  },
  {
   "cell_type": "markdown",
   "id": "53b71b21-3d3e-4641-8c95-93e68ed961dc",
   "metadata": {},
   "source": [
    "ASSIGNMENT"
   ]
  },
  {
   "cell_type": "code",
   "execution_count": 1,
   "id": "1fa22f8e-3b0b-4780-915a-bbbb56d9f4ff",
   "metadata": {
    "tags": []
   },
   "outputs": [],
   "source": [
    "#PROBLEM 1"
   ]
  },
  {
   "cell_type": "raw",
   "id": "6c89ca9c-1468-4dbe-81b5-681a4116176f",
   "metadata": {
    "tags": []
   },
   "source": [
    "def quicksort(arr):\n",
    "    if len(arr)<=1:\n",
    "        return arr\n",
    "    pivot = arr[len(arr)//2]\n",
    "    left = [x for x in arr if x < pivot]\n",
    "    middle = [x for x in arr if x == pivot]\n",
    "    right = [x for x in arr if x > pivot]\n",
    "    return quicksort(left) + middle + quicksort(right)"
   ]
  },
  {
   "cell_type": "code",
   "execution_count": 4,
   "id": "6d6b7e8f-1755-4254-af9c-60b18356e590",
   "metadata": {
    "tags": []
   },
   "outputs": [
    {
     "name": "stdout",
     "output_type": "stream",
     "text": [
      "[1, 2, 3, 5, 8, 9]\n"
     ]
    }
   ],
   "source": [
    "def quicksort(arr):\n",
    "    if len(arr)<=1:\n",
    "        return arr\n",
    "    pivot = arr[len(arr)//2]\n",
    "    left = [x for x in arr if x < pivot]\n",
    "    middle = [x for x in arr if x == pivot]\n",
    "    right = [x for x in arr if x > pivot]\n",
    "    return quicksort(left) + middle + quicksort(right)\n",
    "numbers = [5,2,8,9,1,3]\n",
    "sorted_numbers = quicksort(numbers)\n",
    "print(sorted_numbers)"
   ]
  },
  {
   "cell_type": "code",
   "execution_count": null,
   "id": "51b1c46a-ac2f-4569-b87b-a3749c7f35b6",
   "metadata": {},
   "outputs": [],
   "source": []
  },
  {
   "cell_type": "code",
   "execution_count": null,
   "id": "33a774a8-c5b3-45ce-aaa6-2a8c7941b92f",
   "metadata": {},
   "outputs": [],
   "source": []
  },
  {
   "cell_type": "code",
   "execution_count": 5,
   "id": "5f4b67b8-dc09-4bb3-913b-1082d05244c9",
   "metadata": {
    "tags": []
   },
   "outputs": [],
   "source": [
    "#PROBLEM 2:"
   ]
  },
  {
   "cell_type": "markdown",
   "id": "e4f4085a-b76a-4295-ad94-df86393ef030",
   "metadata": {},
   "source": [
    "def nested_loop_example(matrix):\n",
    "    rows,col = len(matrix),len(matrix[0])\n",
    "    total = 0\n",
    "    for i in range(rows):\n",
    "        for j in range(cols):\n",
    "            total += matrix[i][j]\n",
    "    return total"
   ]
  },
  {
   "cell_type": "code",
   "execution_count": 7,
   "id": "590db87d-2b36-4bd3-adb5-38e363d26f36",
   "metadata": {
    "tags": []
   },
   "outputs": [
    {
     "name": "stdout",
     "output_type": "stream",
     "text": [
      "The total sum of elements in the matrix is: 45\n"
     ]
    }
   ],
   "source": [
    "def nested_loop_example(matrix):\n",
    "    rows,cols = len(matrix),len(matrix[0])\n",
    "    total = 0\n",
    "    for i in range(rows):\n",
    "        for j in range(cols):\n",
    "            total += matrix[i][j]\n",
    "    return total\n",
    "matrix = [[1,2,3],\n",
    "          [4,5,6],\n",
    "          [7,8,9]]\n",
    "total_sum = nested_loop_example(matrix)\n",
    "print(\"The total sum of elements in the matrix is:\",total_sum)"
   ]
  },
  {
   "cell_type": "code",
   "execution_count": null,
   "id": "76ebc44d-5ecd-452f-a0bf-a0474b641a90",
   "metadata": {},
   "outputs": [],
   "source": []
  },
  {
   "cell_type": "code",
   "execution_count": null,
   "id": "ea4dd9ca-20a2-432f-9c14-22c8f400e8c5",
   "metadata": {},
   "outputs": [],
   "source": []
  },
  {
   "cell_type": "code",
   "execution_count": 8,
   "id": "c0cd8e08-a582-4568-b8be-4b73f0452536",
   "metadata": {
    "tags": []
   },
   "outputs": [],
   "source": [
    "#PROBLEM 3"
   ]
  },
  {
   "cell_type": "markdown",
   "id": "a9dc12d9-6aa9-47c6-adca-d539d0c525ff",
   "metadata": {},
   "source": [
    "def example_function(arr):\n",
    "    result = 0\n",
    "    for element in arr:\n",
    "        result += element\n",
    "    return result"
   ]
  },
  {
   "cell_type": "code",
   "execution_count": 9,
   "id": "eb614c9e-5736-420f-9f57-d8527daf6229",
   "metadata": {
    "tags": []
   },
   "outputs": [
    {
     "name": "stdout",
     "output_type": "stream",
     "text": [
      "The sum of the numbers is: 15\n"
     ]
    }
   ],
   "source": [
    "def example_function(arr):\n",
    "    result = 0\n",
    "    for element in arr:\n",
    "        result += element\n",
    "    return result\n",
    "numbers = [1,2,3,4,5]\n",
    "sum_result = example_function(numbers)\n",
    "print(\"The sum of the numbers is:\", sum_result)"
   ]
  },
  {
   "cell_type": "code",
   "execution_count": null,
   "id": "40980732-70ef-4c3d-92ad-bc16315c3fc7",
   "metadata": {},
   "outputs": [],
   "source": []
  },
  {
   "cell_type": "code",
   "execution_count": null,
   "id": "a286fc13-b6b6-485c-9596-06d6847bb580",
   "metadata": {},
   "outputs": [],
   "source": []
  },
  {
   "cell_type": "code",
   "execution_count": 10,
   "id": "28d957eb-fc21-4751-8749-e30ccc8b2325",
   "metadata": {
    "tags": []
   },
   "outputs": [],
   "source": [
    "#PROBLEM 4"
   ]
  },
  {
   "cell_type": "markdown",
   "id": "9473ebef-9253-4567-93ad-85fa81d9ee14",
   "metadata": {
    "tags": []
   },
   "source": [
    "def longest_increasing_subsequence(nums):\n",
    "    n = len(nums)\n",
    "    lis = [1]*n\n",
    "    for i in range(1,n):\n",
    "        for j in range(0,i):\n",
    "            if nums[i]>nums[j] and lis[i]<lis[j]+1:\n",
    "                lis[i]=lis[j]+1\n",
    "    return max(lis)"
   ]
  },
  {
   "cell_type": "code",
   "execution_count": 12,
   "id": "849c5afb-d4ca-4f6d-b3a1-508aca303dec",
   "metadata": {
    "tags": []
   },
   "outputs": [
    {
     "name": "stdout",
     "output_type": "stream",
     "text": [
      "The length of the longest increasing subsequence is: 5\n"
     ]
    }
   ],
   "source": [
    "def longest_increasing_subsequence(nums):\n",
    "    n = len(nums)\n",
    "    lis = [1]*n\n",
    "    for i in range(1,n):\n",
    "        for j in range(0,i):\n",
    "            if nums[i]>nums[j] and lis[i]<lis[j]+1:\n",
    "                lis[i]=lis[j]+1\n",
    "    return max(lis)\n",
    "numbers = [10,22,9,33,21,50,41,60]\n",
    "result = longest_increasing_subsequence(numbers)\n",
    "print(\"The length of the longest increasing subsequence is:\", result)"
   ]
  },
  {
   "cell_type": "code",
   "execution_count": null,
   "id": "23eef5ca-d70f-46f3-b782-f8ea36924ae4",
   "metadata": {},
   "outputs": [],
   "source": []
  },
  {
   "cell_type": "code",
   "execution_count": null,
   "id": "0e5af108-564e-4ab8-bc17-2b1203a7f892",
   "metadata": {},
   "outputs": [],
   "source": []
  },
  {
   "cell_type": "code",
   "execution_count": 13,
   "id": "df8f5b9d-90b3-466a-9d1e-14ec5bd78d23",
   "metadata": {
    "tags": []
   },
   "outputs": [],
   "source": [
    "#PROBLEM 5"
   ]
  },
  {
   "cell_type": "markdown",
   "id": "d8906c53-3918-4e27-a454-bd6bcdb7b141",
   "metadata": {},
   "source": [
    "def mysterious_function(arr):\n",
    "    n = len(arr)\n",
    "    result = 0\n",
    "    for i in range(n):\n",
    "        for j in range(i,n):\n",
    "            result += arr[i]*arr[j]\n",
    "    return result\n"
   ]
  },
  {
   "cell_type": "code",
   "execution_count": 14,
   "id": "124cf78b-152a-4c9e-891d-9fe05e6b9448",
   "metadata": {
    "tags": []
   },
   "outputs": [
    {
     "name": "stdout",
     "output_type": "stream",
     "text": [
      "25\n"
     ]
    }
   ],
   "source": [
    "def mysterious_function(arr):\n",
    "    n = len(arr)\n",
    "    result = 0\n",
    "    for i in range(n):\n",
    "        for j in range(i,n):\n",
    "            result += arr[i]*arr[j]\n",
    "    return result\n",
    "my_array = [1,2,3]\n",
    "output = mysterious_function(my_array)\n",
    "print(output)"
   ]
  },
  {
   "cell_type": "code",
   "execution_count": null,
   "id": "95dae074-d313-4fd9-a7d5-1e5be859c3c7",
   "metadata": {},
   "outputs": [],
   "source": []
  },
  {
   "cell_type": "code",
   "execution_count": null,
   "id": "f6b7d2f3-695a-4c4d-b4ca-d89515afdebd",
   "metadata": {},
   "outputs": [],
   "source": []
  },
  {
   "cell_type": "code",
   "execution_count": 15,
   "id": "e922ac48-e2d7-4276-af88-d92256a658f0",
   "metadata": {
    "tags": []
   },
   "outputs": [],
   "source": [
    "#PROBLEM 6"
   ]
  },
  {
   "cell_type": "code",
   "execution_count": 16,
   "id": "6f6ea900-4c38-4ea9-8e88-8d9822b5e0d5",
   "metadata": {
    "tags": []
   },
   "outputs": [],
   "source": [
    "#SUM OF DIGITS"
   ]
  },
  {
   "cell_type": "code",
   "execution_count": 18,
   "id": "49acad3e-ea21-4c03-9c7e-7eea41cd1d41",
   "metadata": {
    "tags": []
   },
   "outputs": [
    {
     "name": "stdout",
     "output_type": "stream",
     "text": [
      "6\n"
     ]
    }
   ],
   "source": [
    "def sum_of_digits(n):\n",
    "    if n == 0:\n",
    "        return 0\n",
    "    else:\n",
    "        return n%10 + sum_of_digits(n//10)\n",
    "result = sum_of_digits(123)\n",
    "print(result)"
   ]
  },
  {
   "cell_type": "code",
   "execution_count": null,
   "id": "10f7c3b9-1604-4a2c-a5bf-bc175b58ae80",
   "metadata": {},
   "outputs": [],
   "source": []
  },
  {
   "cell_type": "code",
   "execution_count": null,
   "id": "4eacef50-aae5-4b8f-8b6e-fc9320589602",
   "metadata": {},
   "outputs": [],
   "source": []
  },
  {
   "cell_type": "code",
   "execution_count": 19,
   "id": "a4f12bf9-a3d0-404f-9543-941e1ffd3747",
   "metadata": {
    "tags": []
   },
   "outputs": [],
   "source": [
    "#PROBLEM 7"
   ]
  },
  {
   "cell_type": "code",
   "execution_count": 20,
   "id": "d5dba81e-2910-4682-b0e7-3ef996fa6bae",
   "metadata": {
    "tags": []
   },
   "outputs": [],
   "source": [
    "#FIBONACCI SERIES"
   ]
  },
  {
   "cell_type": "code",
   "execution_count": 21,
   "id": "d8806263-1227-4deb-8f29-0ceb9dabdc2d",
   "metadata": {
    "tags": []
   },
   "outputs": [
    {
     "name": "stdout",
     "output_type": "stream",
     "text": [
      "[0, 1, 1, 2, 3, 5]\n"
     ]
    }
   ],
   "source": [
    "def fibonacci_series(n):\n",
    "    if n<=0:\n",
    "        return []\n",
    "    elif n == 1:\n",
    "        return [0]\n",
    "    elif n==2:\n",
    "        return [0,1]\n",
    "    else:\n",
    "        series = fibonacci_series(n-1)\n",
    "        series.append(series[-1] + series[-2])\n",
    "        return series\n",
    "result= fibonacci_series(6)\n",
    "print(result)"
   ]
  },
  {
   "cell_type": "code",
   "execution_count": null,
   "id": "c02a6daa-1634-4eb8-ad5d-b9fedeb28258",
   "metadata": {},
   "outputs": [],
   "source": []
  },
  {
   "cell_type": "code",
   "execution_count": null,
   "id": "31b07323-bf98-45a0-ab17-bfd751fca11f",
   "metadata": {},
   "outputs": [],
   "source": []
  },
  {
   "cell_type": "code",
   "execution_count": 22,
   "id": "873173b5-2092-4603-a985-552caf91022d",
   "metadata": {
    "tags": []
   },
   "outputs": [],
   "source": [
    "#PROBLEM 8"
   ]
  },
  {
   "cell_type": "code",
   "execution_count": 23,
   "id": "4120e4e7-971a-4f3e-b178-f8ad1ea9587f",
   "metadata": {
    "tags": []
   },
   "outputs": [],
   "source": [
    "#SUBSET SUM"
   ]
  },
  {
   "cell_type": "code",
   "execution_count": 24,
   "id": "9eb8e3d2-c52b-4e83-a530-bcd138307a71",
   "metadata": {
    "tags": []
   },
   "outputs": [
    {
     "name": "stdout",
     "output_type": "stream",
     "text": [
      "True\n"
     ]
    }
   ],
   "source": [
    "def subset_sum(numbers,target_sum):\n",
    "    if target_sum == 0:\n",
    "        return True\n",
    "    if not numbers or target_sum<0:\n",
    "        return False\n",
    "    return subset_sum(numbers[-1:],target_sum - numbers[0]) or subset_sum(numbers[-1:],target_sum)\n",
    "result = subset_sum([3,34,4,12,5,2],9)\n",
    "print(result)"
   ]
  },
  {
   "cell_type": "code",
   "execution_count": null,
   "id": "f3a8411f-2cf2-42f8-a2d5-ebd4a49a1c71",
   "metadata": {},
   "outputs": [],
   "source": []
  },
  {
   "cell_type": "code",
   "execution_count": null,
   "id": "f1ae79e6-d187-4b0b-8784-c62ade020d39",
   "metadata": {},
   "outputs": [],
   "source": []
  },
  {
   "cell_type": "code",
   "execution_count": 25,
   "id": "a5dfafe3-253b-4539-a20a-c36ea419cd99",
   "metadata": {
    "tags": []
   },
   "outputs": [],
   "source": [
    "#PROBLEM 9"
   ]
  },
  {
   "cell_type": "code",
   "execution_count": 26,
   "id": "d848f426-9db0-40f0-bf3c-48510adad8fb",
   "metadata": {
    "tags": []
   },
   "outputs": [],
   "source": [
    "#WORD BREAK "
   ]
  },
  {
   "cell_type": "code",
   "execution_count": 27,
   "id": "55f70e08-cd5f-4eaa-8717-dd186096c7f2",
   "metadata": {
    "tags": []
   },
   "outputs": [
    {
     "name": "stdout",
     "output_type": "stream",
     "text": [
      "True\n"
     ]
    }
   ],
   "source": [
    "def word_break(s,word_dict):\n",
    "    if not s:\n",
    "        return True\n",
    "    for word in word_dict:\n",
    "        if s.startswith(word):\n",
    "            if word_break(s[len(word):],word_dict):\n",
    "                return True\n",
    "    return False\n",
    "s = \"leetcode\"\n",
    "word_dict = [\"leet\",\"code\"]\n",
    "result = word_break(s,word_dict)\n",
    "print(result)"
   ]
  },
  {
   "cell_type": "code",
   "execution_count": null,
   "id": "423595e1-21b9-4904-92c6-2aaf26517f7d",
   "metadata": {},
   "outputs": [],
   "source": []
  },
  {
   "cell_type": "code",
   "execution_count": null,
   "id": "81e21030-bcb9-4dae-8753-b9427f4b9375",
   "metadata": {},
   "outputs": [],
   "source": []
  },
  {
   "cell_type": "code",
   "execution_count": 28,
   "id": "b93e27ae-881d-49f8-9430-c781898fff1c",
   "metadata": {
    "tags": []
   },
   "outputs": [],
   "source": [
    "#PROBLEM 10"
   ]
  },
  {
   "cell_type": "code",
   "execution_count": 29,
   "id": "e3121893-f6da-4afc-b684-de4c10487af7",
   "metadata": {
    "tags": []
   },
   "outputs": [],
   "source": [
    "#N - QUEENS"
   ]
  },
  {
   "cell_type": "code",
   "execution_count": 31,
   "id": "ffcf19fb-8b64-4f3d-8f5c-2be7f635f3bf",
   "metadata": {
    "tags": []
   },
   "outputs": [
    {
     "name": "stdout",
     "output_type": "stream",
     "text": [
      "..Q.\n",
      "Q...\n",
      "...Q\n",
      ".Q..\n",
      "\n",
      ".Q..\n",
      "...Q\n",
      "Q...\n",
      "..Q.\n",
      "\n"
     ]
    }
   ],
   "source": [
    "def n_queens(n):\n",
    "    result = []\n",
    "    board = [[\".\"]*n for _ in range(n)]\n",
    "    solve_n_queens(board,0,result)\n",
    "    return result\n",
    "def solve_n_queens(board,col,result):\n",
    "    if col == len(board):\n",
    "        result.append([\"\".join(row) for row in board])\n",
    "        return \n",
    "    for row in range(len(board)):\n",
    "        if is_safe(board,row,col):\n",
    "            board[row][col] = \"Q\"\n",
    "            solve_n_queens(board,col + 1, result)\n",
    "            board[row][col] = \".\"\n",
    "def is_safe(board,row,col):\n",
    "    for i in range(col):\n",
    "        if board[row][i] ==\"Q\":\n",
    "            return False\n",
    "    for i,j in zip(range(row, -1,-1),range(col,-1,-1)):\n",
    "        if board[i][j]==\"Q\":\n",
    "            return False\n",
    "    for i ,j in zip(range(row,len(board),1),range(col,-1,-1)):\n",
    "        if board[i][j]==\"Q\":\n",
    "            return False\n",
    "    return True\n",
    "n= 4\n",
    "result = n_queens(n)\n",
    "for board in result:\n",
    "    for row in board:\n",
    "        print(row)\n",
    "    print()"
   ]
  },
  {
   "cell_type": "code",
   "execution_count": null,
   "id": "23a8c58d-a7f8-4b37-9ba3-1a195e0f7006",
   "metadata": {},
   "outputs": [],
   "source": []
  }
 ],
 "metadata": {
  "kernelspec": {
   "display_name": "Python 3 (ipykernel)",
   "language": "python",
   "name": "python3"
  },
  "language_info": {
   "codemirror_mode": {
    "name": "ipython",
    "version": 3
   },
   "file_extension": ".py",
   "mimetype": "text/x-python",
   "name": "python",
   "nbconvert_exporter": "python",
   "pygments_lexer": "ipython3",
   "version": "3.11.4"
  }
 },
 "nbformat": 4,
 "nbformat_minor": 5
}
